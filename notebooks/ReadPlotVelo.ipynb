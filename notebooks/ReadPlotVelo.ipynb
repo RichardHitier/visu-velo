{
 "cells": [
  {
   "cell_type": "code",
   "execution_count": 19,
   "id": "64c96133-6c7a-453e-93d5-c7db752ac575",
   "metadata": {},
   "outputs": [],
   "source": [
    "import pandas as pd\n",
    "\n",
    "import matplotlib.pyplot as plt\n",
    "\n",
    "my_df = pd.read_excel(\"23-24.ods\", sheet_name=\"Journal\",header=4, index_col=3,\n",
    "             parse_dates=True)\n",
    "\n",
    "# isolate km column, and remove NaN\n",
    "km_df = my_df[\"km\"]\n",
    "km_df.dropna(inplace=True)\n",
    "\n",
    "# reindex day by day\n",
    "new_idx = pd.date_range(start=km_df.index[0], end=km_df.index[-1], freq='D')\n",
    "km_reindexed=km_df.reindex(new_idx)\n",
    "\n",
    "\n",
    "      "
   ]
  },
  {
   "cell_type": "code",
   "execution_count": null,
   "id": "2602387c-04e3-48f8-8cb9-25c1429d63e2",
   "metadata": {},
   "outputs": [],
   "source": []
  },
  {
   "cell_type": "code",
   "execution_count": null,
   "id": "85b262d9-f7ee-44fb-951b-aacefea472b0",
   "metadata": {},
   "outputs": [],
   "source": []
  },
  {
   "cell_type": "code",
   "execution_count": null,
   "id": "e483f141-e90f-4dc2-ba00-f2d8893c140f",
   "metadata": {},
   "outputs": [],
   "source": []
  },
  {
   "cell_type": "code",
   "execution_count": 20,
   "id": "0ab229e7-ad51-428f-9713-7688b98ac938",
   "metadata": {},
   "outputs": [
    {
     "name": "stdout",
     "output_type": "stream",
     "text": [
      "<class 'pandas.core.series.Series'>\n"
     ]
    }
   ],
   "source": [
    "# Reindex by week num\n",
    "km_w = km_reindexed.copy()\n",
    "km_w.index = pd.to_datetime(km_w.index, format = '%Y-%m-%d').strftime('%W')\n",
    "# km_w.index\n",
    "var = km_w.groupby(by=km_w.index).sum()\n",
    "print(type(var))"
   ]
  },
  {
   "cell_type": "code",
   "execution_count": 29,
   "id": "5587e6c9-0994-4da7-9308-6ce54d5bfbdd",
   "metadata": {},
   "outputs": [
    {
     "data": {
      "text/plain": [
       "<BarContainer object of 124 artists>"
      ]
     },
     "execution_count": 29,
     "metadata": {},
     "output_type": "execute_result"
    },
    {
     "data": {
      "image/png": "[encoded data removed]",
      "text/plain": [
       "<Figure size 640x480 with 2 Axes>"
      ]
     },
     "metadata": {},
     "output_type": "display_data"
    }
   ],
   "source": [
    "# print(km_df.index)\n",
    "km_w = km_df.to_frame()\n",
    "km_w[\"w_num\"] = km_w.index.strftime(\"%W\")\n",
    "# print(km_w)\n",
    "km_w_sum = km_w.groupby(by=km_w[\"w_num\"], sort=False).agg(\"sum\")\n",
    "# print(km_w_sum)\n",
    "# km_w_sum[\"mean\"] = km_w.groupby(by=km_w[\"w_num\"], sort=False).agg(\"mean\")\n",
    "# km_w_sum.plot.bar()\n",
    "\n",
    "\n",
    "\n",
    "fig, ax = plt.subplots(2)\n",
    "type(ax)\n",
    "# type(ax)\n",
    "ax[0].bar(km_w_sum.index, km_w_sum.km)\n",
    "ax[1].bar(km_reindexed.index, km_reindexed)"
   ]
  },
  {
   "cell_type": "code",
   "execution_count": null,
   "id": "a4980cd2-20f3-4414-b0e1-47b0571b02b9",
   "metadata": {},
   "outputs": [],
   "source": []
  },
  {
   "cell_type": "code",
   "execution_count": null,
   "id": "dc93529f-d552-4670-b679-660512c0db83",
   "metadata": {},
   "outputs": [],
   "source": []
  },
  {
   "cell_type": "code",
   "execution_count": null,
   "id": "bed84618-72b7-4b13-9138-c7a0db8fe7dd",
   "metadata": {},
   "outputs": [],
   "source": []
  }
 ],
 "metadata": {
  "kernelspec": {
   "display_name": "Python 3 (ipykernel)",
   "language": "python",
   "name": "python3"
  },
  "language_info": {
   "codemirror_mode": {
    "name": "ipython",
    "version": 3
   },
   "file_extension": ".py",
   "mimetype": "text/x-python",
   "name": "python",
   "nbconvert_exporter": "python",
   "pygments_lexer": "ipython3",
   "version": "3.11.6"
  }
 },
 "nbformat": 4,
 "nbformat_minor": 5
}
