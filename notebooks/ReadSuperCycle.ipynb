{
 "cells": [
  {
   "cell_type": "code",
   "execution_count": 68,
   "id": "14f1ead3-ec9b-4723-ba23-212242080387",
   "metadata": {},
   "outputs": [
    {
     "name": "stdout",
     "output_type": "stream",
     "text": [
      "1710344532620\n",
      "1710344532\n",
      "                      latitude  longitude         alt\n",
      "datetime                                             \n",
      "2024-03-13 16:42:12  43.065345   2.218913  129.795734\n",
      "2024-03-13 16:42:13  43.065345   2.218913  129.795734\n",
      "2024-03-13 16:42:14  43.065345   2.218913  129.795734\n",
      "2024-03-13 16:42:15  43.065345   2.218913  129.795734\n",
      "2024-03-13 16:42:16  43.065345   2.218913  129.795734\n",
      "...                        ...        ...         ...\n",
      "2024-03-13 18:00:16  43.065176   2.218814  135.488618\n",
      "2024-03-13 18:00:17  43.065176   2.218814  135.488618\n",
      "2024-03-13 18:00:18  43.065176   2.218814  135.488618\n",
      "2024-03-13 18:00:19  43.065176   2.218814  135.488618\n",
      "2024-03-13 18:00:20  43.065176   2.218814  135.488618\n",
      "\n",
      "[4689 rows x 3 columns]\n"
     ]
    }
   ],
   "source": [
    "import sys\n",
    "from datetime import datetime\n",
    "import pandas as pd\n",
    "import json\n",
    "import matplotlib.pyplot as plt\n",
    "from pprint import pprint\n",
    "with open(\"super_cyle_20240313.json\", \"r\") as scjson_fd:\n",
    "    my_json = json.loads(scjson_fd.read())\n",
    "\n",
    "# pri\n",
    "# heads = [a[\"head\"] for a in my_json[\"details\"][-30:-1]]\n",
    "# accs = [a[\"acc\"] for a in my_json[\"details\"]]\n",
    "time = [a[\"timestamp\"] for a in my_json[\"details\"]]\n",
    "# for t in time[:100]:\n",
    "# pprint(time[0])j\n",
    "# print(datetime.timestamp(datetime.now()) )\n",
    "# print(datetime.datetime.fromtimestamp(1710344532620, tz = None))\n",
    "\n",
    "#     print(time)\n",
    "print(time[0])\n",
    "print(time[0]//1000)\n",
    "# sys.exit()\n",
    "# print(accs)jj\n",
    "# pprint(my_json[\"details\"][0])\n",
    "df_data = []\n",
    "for _d in my_json[\"details\"]:\n",
    "    df_data.append({\"datetime\": datetime.fromtimestamp(_d[\"timestamp\"]//1000),\n",
    "                    \"latitude\": _d[\"lat\"],\n",
    "                    \"longitude\": _d[\"lon\"],\n",
    "                    \"alt\": _d[\"alt\"]})\n",
    "\n",
    "df = pd.DataFrame.from_records(df_data, index=\"datetime\")\n",
    "# df.set_index(\"time\", inplace=True)\n",
    "\n",
    "# df.index = pd.to_datetime(df.index)\n",
    "print(df)\n",
    "\n",
    "# plt.plot(df[\"timestamp\"], df[\"alt\"])"
   ]
  }
 ],
 "metadata": {
  "kernelspec": {
   "display_name": "Python 3 (ipykernel)",
   "language": "python",
   "name": "python3"
  },
  "language_info": {
   "codemirror_mode": {
    "name": "ipython",
    "version": 3
   },
   "file_extension": ".py",
   "mimetype": "text/x-python",
   "name": "python",
   "nbconvert_exporter": "python",
   "pygments_lexer": "ipython3",
   "version": "3.11.6"
  }
 },
 "nbformat": 4,
 "nbformat_minor": 5
}
