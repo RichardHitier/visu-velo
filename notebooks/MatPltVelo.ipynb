{
 "cells": [
  {
   "cell_type": "code",
   "execution_count": 22,
   "id": "ddc5a718-275a-4c26-a1fd-ce7f16eb94d1",
   "metadata": {},
   "outputs": [
    {
     "name": "stdout",
     "output_type": "stream",
     "text": [
      "<class 'pandas.core.series.Series'>\n"
     ]
    }
   ],
   "source": [
    "import pandas as pd\n",
    "\n",
    "\n",
    "my_df = pd.read_excel(\"23-24.ods\", sheet_name=\"Journal\",header=4, index_col=3,\n",
    "             parse_dates=True)\n",
    "\n",
    "# isolate km column, and remove NaN\n",
    "km_df = my_df[\"km\"]\n",
    "km_df.dropna(inplace=True)\n",
    "\n",
    "# reindex day by day\n",
    "new_idx = pd.date_range(start=km_df.index[0], end=km_df.index[-1], freq='D')\n",
    "km_reidx=km_df.reindex(new_idx)\n",
    "# print(km_reindexed)\n",
    "# km_reindexed.plot.bar()\n",
    "\n",
    "# print(type(km_reidx))\n",
    "    "
   ]
  },
  {
   "cell_type": "code",
   "execution_count": 5,
   "id": "2dc1de42-42b5-46f0-8034-d549be271a1e",
   "metadata": {},
   "outputs": [
    {
     "name": "stdout",
     "output_type": "stream",
     "text": [
      "panda: 2.2.0\n",
      "numpy: 1.26.3\n",
      "matpl: 3.8.2\n"
     ]
    }
   ],
   "source": [
    "import pandas as pd\n",
    "import numpy as np\n",
    "import matplotlib.pyplot as plt\n",
    "import matplotlib\n",
    "\n",
    "print(\"panda:\", pd.__version__)\n",
    "print(\"numpy:\", np.__version__)\n",
    "print(\"matpl:\", matplotlib.__version__)"
   ]
  },
  {
   "cell_type": "code",
   "execution_count": 1,
   "id": "612a2dfa-d3ab-445e-8e76-2b9dc86218d4",
   "metadata": {},
   "outputs": [
    {
     "ename": "NameError",
     "evalue": "name 'plt' is not defined",
     "output_type": "error",
     "traceback": [
      "\u001b[0;31m---------------------------------------------------------------------------\u001b[0m",
      "\u001b[0;31mNameError\u001b[0m                                 Traceback (most recent call last)",
      "Cell \u001b[0;32mIn[1], line 9\u001b[0m\n\u001b[1;32m      1\u001b[0m \u001b[38;5;66;03m# _figsize=(10,5)\u001b[39;00m\n\u001b[1;32m      2\u001b[0m \u001b[38;5;66;03m# fig, axs = plt.subplots(4,\u001b[39;00m\n\u001b[1;32m      3\u001b[0m \u001b[38;5;66;03m#                         constrained_layout=True, sharex=True, sharey=False,\u001b[39;00m\n\u001b[0;32m   (...)\u001b[0m\n\u001b[1;32m      7\u001b[0m \n\u001b[1;32m      8\u001b[0m \u001b[38;5;66;03m# axs[0].pl\u001b[39;00m\n\u001b[0;32m----> 9\u001b[0m \u001b[43mplt\u001b[49m\u001b[38;5;241m.\u001b[39mhist(km_reidx)\n\u001b[1;32m     10\u001b[0m \u001b[38;5;66;03m# for that parameter, plotkall datasets\u001b[39;00m\n\u001b[1;32m     11\u001b[0m \u001b[38;5;66;03m# for i, param_name in enumerate(parameters):\u001b[39;00m\n\u001b[1;32m     12\u001b[0m     \n\u001b[0;32m   (...)\u001b[0m\n\u001b[1;32m     16\u001b[0m \u001b[38;5;66;03m#     axs[i].set_title(title)\u001b[39;00m\n\u001b[1;32m     17\u001b[0m \u001b[38;5;66;03m#     axs[i].set_ylabel(param_name)\u001b[39;00m\n",
      "\u001b[0;31mNameError\u001b[0m: name 'plt' is not defined"
     ]
    }
   ],
   "source": [
    "# _figsize=(10,5)\n",
    "# fig, axs = plt.subplots(4,\n",
    "#                         constrained_layout=True, sharex=True, sharey=False,\n",
    "#                         figsize=_figsize)\n",
    "# fig.suptitle(\"PIF PAF POUF\", fontsize=16)\n",
    "\n",
    "\n",
    "# axs[0].pl\n",
    "plt.hist(km_reidx)\n",
    "# for that parameter, plotkall datasets\n",
    "# for i, param_name in enumerate(parameters):\n",
    "    \n",
    "#     axs[i].plot(df[param_name])\n",
    "#     title = f\"{param_name}\"\n",
    "#     title = title.upper()\n",
    "#     axs[i].set_title(title)\n",
    "#     axs[i].set_ylabel(param_name)\n",
    "\n",
    "\n",
    "\n"
   ]
  },
  {
   "cell_type": "code",
   "execution_count": null,
   "id": "26c06898-0416-419b-a3d8-709c6b505a96",
   "metadata": {},
   "outputs": [],
   "source": []
  }
 ],
 "metadata": {
  "kernelspec": {
   "display_name": "Python 3 (ipykernel)",
   "language": "python",
   "name": "python3"
  },
  "language_info": {
   "codemirror_mode": {
    "name": "ipython",
    "version": 3
   },
   "file_extension": ".py",
   "mimetype": "text/x-python",
   "name": "python",
   "nbconvert_exporter": "python",
   "pygments_lexer": "ipython3",
   "version": "3.11.6"
  }
 },
 "nbformat": 4,
 "nbformat_minor": 5
}
