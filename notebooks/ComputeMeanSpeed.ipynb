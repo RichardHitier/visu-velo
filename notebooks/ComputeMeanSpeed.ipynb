{
 "cells": [
  {
   "cell_type": "code",
   "execution_count": 31,
   "id": "d5e029d6-fc7d-4bb6-ab01-6e657b2ad13d",
   "metadata": {},
   "outputs": [
    {
     "name": "stdout",
     "output_type": "stream",
     "text": [
      "19.2\n",
      "20.0\n",
      "20.400000000000002\n",
      "19.2\n",
      "20.727272727272727\n",
      "20.571428571428573\n",
      "18.88111888111888\n",
      "20.129032258064516\n",
      "20.4\n",
      "20.516129032258064\n",
      "18.0\n",
      "20.210526315789473\n",
      "20.454545454545453\n",
      "24.25531914893617\n",
      "21.0\n",
      "19.2\n",
      "21.0\n",
      "21.119999999999997\n",
      "20.0\n",
      "20.25\n",
      "20.0\n",
      "20.48780487804878\n",
      "21.645569620253166\n",
      "22.90909090909091\n",
      "22.857142857142858\n",
      "25.6\n",
      "23.414634146341463\n",
      "24.360902255639097\n",
      "24.705882352941178\n",
      "25.384615384615383\n",
      "24.4\n",
      "0.0\n",
      "0.0\n",
      "0.0\n",
      "0.0\n",
      "0.0\n",
      "0.0\n",
      "0.0\n",
      "0.0\n"
     ]
    }
   ],
   "source": [
    "\n",
    "import pandas as pd\n",
    "\n",
    "import matplotlib.pyplot as plt\n",
    "\n",
    "my_df = pd.read_excel(\"23-24.ods\", sheet_name=\"Journal\",header=4, index_col=3,\n",
    "             parse_dates=True)\n",
    "\n",
    "def mean_speed( _distance, _time ):\n",
    "    try:\n",
    "        hour_float = _time.hour + _time.minute/60.0 + _time.second/3600.0\n",
    "    except:\n",
    "        return 0\n",
    "    return _distance / hour_float\n",
    "\n",
    "\n",
    "# print(my_df[\"temps\"])\n",
    "\n",
    "    \n",
    "\n",
    "my_df[\"mean_speed\"] = my_df.apply(lambda x: mean_speed(x[\"km\"], x[\"temps\"]), axis=1)\n",
    "for i in my_df[\"mean_speed\"]:\n",
    "    print(i)"
   ]
  }
 ],
 "metadata": {
  "kernelspec": {
   "display_name": "Python 3 (ipykernel)",
   "language": "python",
   "name": "python3"
  },
  "language_info": {
   "codemirror_mode": {
    "name": "ipython",
    "version": 3
   },
   "file_extension": ".py",
   "mimetype": "text/x-python",
   "name": "python",
   "nbconvert_exporter": "python",
   "pygments_lexer": "ipython3",
   "version": "3.11.6"
  }
 },
 "nbformat": 4,
 "nbformat_minor": 5
}
